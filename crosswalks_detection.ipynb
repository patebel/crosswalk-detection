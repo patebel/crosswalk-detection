{
  "cells": [
    {
      "cell_type": "markdown",
      "metadata": {
        "id": "view-in-github",
        "colab_type": "text"
      },
      "source": [
        "<a href=\"https://colab.research.google.com/github/xN1ckuz/Crosswalks-Detection-using-YoloV5/blob/main/crosswalks_detection.ipynb\" target=\"_parent\"><img src=\"https://colab.research.google.com/assets/colab-badge.svg\" alt=\"Open In Colab\"/></a>"
      ]
    },
    {
      "cell_type": "code",
      "execution_count": null,
      "metadata": {
        "id": "vrUhXR79JaXF"
      },
      "outputs": [],
      "source": [
        "from google.colab import drive\n",
        "\n",
        "folder = 'project_VeP'#@param{type:\"string\"}\n",
        "\n",
        "drive.mount('/content/gdrive')\n",
        "print('Connecting to Drive....')\n",
        "\n",
        "%cd /content/gdrive/MyDrive/$folder/\n",
        "print('Done!')"
      ]
    },
    {
      "cell_type": "code",
      "execution_count": null,
      "metadata": {
        "id": "Qk0rYiBfJyu9"
      },
      "outputs": [],
      "source": [
        "!git clone https://github.com/ultralytics/yolov5\n",
        "!pip install -r yolov5/requirements.txt\n",
        "import torch\n",
        "print(\"Repo Clone Completed!\")"
      ]
    },
    {
      "cell_type": "code",
      "execution_count": null,
      "metadata": {
        "id": "fX8oygCeJ58R"
      },
      "outputs": [],
      "source": [
        "epoch = 250 #@param {type:\"slider\", min:100, max:1000, step:10}\n",
        "training_option = 'Train new CNN' #@param [\"Train new CNN\", \"Resume an interrupted Training\"]\n",
        "weight = 'yolov5m.pt' #@param[\"yolov5s.pt\",\"yolov5m.pt\",\"yolov5l.pt\",\"yolov5x.pt\"]\n",
        "batch = 64 #@param {type:\"slider\", min:1, max:64, step:1}\n",
        "\n",
        "if training_option == 'Train new CNN':\n",
        "    \n",
        "    %rm -r /content/gdrive/MyDrive/$folder/training_results/exp\n",
        "    !python /content/gdrive/MyDrive/$folder/yolov5/train.py --img 512 --batch $batch --epochs $epoch --data /content/gdrive/MyDrive/$folder/training_dataset/data.yaml --weights $weight --cache --project /content/gdrive/MyDrive/$folder/training_results/\n",
        "else :\n",
        "    !python /content/gdrive/MyDrive/$folder/yolov5/train.py --resume /content/gdrive/MyDrive/$folder/training_results/export/weights/last.pt "
      ]
    },
    {
      "cell_type": "code",
      "source": [
        "%rm -r /content/gdrive/MyDrive/$folder/test_results/exp\n",
        "!python /content/gdrive/MyDrive/$folder/yolov5/val.py --data /content/gdrive/MyDrive/$folder/test_dataset/data.yaml --weights /content/gdrive/MyDrive/$folder/training_results/exp/weights/best.pt --project /content/gdrive/MyDrive/$folder/test_results/"
      ],
      "metadata": {
        "id": "pP1rsYrEvRg6"
      },
      "execution_count": null,
      "outputs": []
    },
    {
      "cell_type": "code",
      "source": [
        "#Printing result to confront\n",
        "from PIL import Image\n",
        "\n",
        "precision_training = '/content/gdrive/MyDrive/'+folder+'/training_results/exp/P_curve.png'\n",
        "precision_test = '/content/gdrive/MyDrive/'+folder+'/test_results/exp/P_curve.png'\n",
        "\n",
        "im1 = Image.open(precision_training)\n",
        "im2 = Image.open(precision_test)\n",
        "print(\"Precision Training\")\n",
        "display(im1)\n",
        "print(\"Precision Test\")\n",
        "display(im2)"
      ],
      "metadata": {
        "id": "uwOOS_OXFo8z"
      },
      "execution_count": null,
      "outputs": []
    },
    {
      "cell_type": "code",
      "execution_count": null,
      "metadata": {
        "id": "S2N3tQWLPiVt"
      },
      "outputs": [],
      "source": [
        "video_name = 'video1.mp4' #@param {type:\"string\"}\n",
        "!python /content/gdrive/MyDrive/$folder/yolov5/detect.py --source /content/gdrive/MyDrive/$folder/videos/$video_name --weights /content/gdrive/MyDrive/$folder/training_results/exp/weights/best.pt --project /content/gdrive/MyDrive/$folder/detection_results/\n",
        "                            "
      ]
    }
  ],
  "metadata": {
    "accelerator": "GPU",
    "colab": {
      "collapsed_sections": [],
      "name": "crosswalks_detection.ipynb",
      "provenance": [],
      "include_colab_link": true
    },
    "kernelspec": {
      "display_name": "Python 3",
      "name": "python3"
    },
    "language_info": {
      "name": "python"
    }
  },
  "nbformat": 4,
  "nbformat_minor": 0
}